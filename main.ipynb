{
 "cells": [
  {
   "cell_type": "code",
   "execution_count": null,
   "id": "28627e58",
   "metadata": {},
   "outputs": [],
   "source": [
    "import os\n",
    "import zipfile\n",
    "import numpy as np\n",
    "import paddle\n",
    "from paddle.io import Dataset, DataLoader"
   ]
  },
  {
   "cell_type": "code",
   "execution_count": 4,
   "id": "39e04539",
   "metadata": {},
   "outputs": [],
   "source": [
    "train_parameters = {\n",
    "    \"batch_size\":16,\n",
    "    \"epochs\":100\n",
    "}"
   ]
  },
  {
   "cell_type": "code",
   "execution_count": null,
   "id": "8e817b4a",
   "metadata": {},
   "outputs": [],
   "source": [
    "# 构建类别映射表，将语言标签映射为数字id\n",
    "def build_class_map(gt_file_path):\n",
    "    languages = set()  # 用于存储所有出现过的语言标签\n",
    "    with open(gt_file_path, encoding='utf-8') as f:\n",
    "        for line in f:\n",
    "            parts = line.strip().split(',')\n",
    "            if len(parts) >= 2:\n",
    "                languages.add(parts[1])  # 收集语言标签\n",
    "    \n",
    "    # 按字母顺序排序语言标签，并分配唯一的数字id\n",
    "    return {lang: idx for idx, lang in enumerate(sorted(languages))}\n",
    "\n",
    "# 调用函数，生成训练集的语言类别映射表\n",
    "class_map = build_class_map('data/train/gt.txt')"
   ]
  },
  {
   "cell_type": "code",
   "execution_count": null,
   "id": "231b22ce",
   "metadata": {},
   "outputs": [],
   "source": [
    "def unzip_data(zip_path, target_path):\n",
    "    os.makedirs(target_path, exist_ok=True)\n",
    "    with zipfile.ZipFile(zip_path, 'r') as zip_ref:\n",
    "        zip_ref.extractall(target_path)\n",
    "\n",
    "# 替换为相应的路径\n",
    "train_gt_zip_path = \"data/data336725/ch8_training_word_gt_v2.zip\"\n",
    "train_images_zip_prefix = \"data/data336725/ch8_training_word_images_gt_part_\"\n",
    "eval_gt_zip_path = \"data/data336725/ch8_validation_word_gt_v2.zip\"\n",
    "eval_images_zip_path = \"data/data336725/ch8_validation_word_images_gt.zip\"\n",
    "\n",
    "train_target_path = \"data/train\"\n",
    "eval_target_path = \"data/eval\"\n",
    "\n",
    "# 解压训练集标注\n",
    "unzip_data(train_gt_zip_path, train_target_path)\n",
    "\n",
    "# 解压训练集图片（多个分包）\n",
    "for i in range(1, 3):\n",
    "    zip_path = f\"{train_images_zip_prefix}{i}.zip\"\n",
    "    unzip_data(zip_path, train_target_path)\n",
    "\n",
    "# 解压验证集标注和图片\n",
    "unzip_data(eval_gt_zip_path, eval_target_path)\n",
    "unzip_data(eval_images_zip_path, eval_target_path)"
   ]
  },
  {
   "cell_type": "code",
   "execution_count": null,
   "id": "fcfaefab",
   "metadata": {},
   "outputs": [],
   "source": [
    "class MultilingualDataset(Dataset):\n",
    "    \"\"\"\n",
    "    多语言数据集类，用于加载带有语言标签和坐标信息的图片样本。\n",
    "\n",
    "    参数:\n",
    "        gt_file (str): 标注文件路径，包含图片文件名和语言标签。\n",
    "        coord_file (str): 坐标文件路径，包含图片对应的坐标信息。\n",
    "        class_map (dict): 语言到类别id的映射字典。\n",
    "        img_root (str): 图片根目录路径。\n",
    "        input_size (int): 输入图片的尺寸，默认224。\n",
    "        augment (bool): 是否进行数据增强，默认True。\n",
    "    \"\"\"\n",
    "    def __init__(self, gt_file, coord_file, class_map, img_root, input_size=224, augment=True):\n",
    "        self.samples = []  # 存储所有样本的信息\n",
    "        self.class_map = class_map  # 语言到类别id的映射\n",
    "        self.input_size = input_size  # 输入图片的尺寸\n",
    "        self.augment = True;  # 是否进行数据增强\n",
    "\n",
    "        # 同时打开标注文件和坐标文件，逐行读取\n",
    "        with open(gt_file, encoding='utf-8') as gt_file, open(coord_file, encoding='utf-8') as coords_file:\n",
    "            for gt_line, coords_line in zip(gt_file, coords_file):\n",
    "                gt_parts = gt_line.strip().split(',')  # 解析标注行\n",
    "                coords_part = coords_line.strip().split(',')  # 解析坐标行\n",
    "\n",
    "                word_img = gt_parts[0]  # 图片文件名\n",
    "                language_label = gt_parts[1]  # 语言标签\n",
    "                coords = np.array(coords_part[1:-2], dtype=np.float32).reshape(4, 2)  # 解析坐标信息\n",
    "\n",
    "                self.samples.append({\n",
    "                    'word_path': os.path.join(img_root, word_img),\n",
    "                    'coords': coords,\n",
    "                    'language': language_label\n",
    "                })"
   ]
  }
 ],
 "metadata": {
  "kernelspec": {
   "display_name": "base",
   "language": "python",
   "name": "python3"
  },
  "language_info": {
   "codemirror_mode": {
    "name": "ipython",
    "version": 3
   },
   "file_extension": ".py",
   "mimetype": "text/x-python",
   "name": "python",
   "nbconvert_exporter": "python",
   "pygments_lexer": "ipython3",
   "version": "3.12.7"
  }
 },
 "nbformat": 4,
 "nbformat_minor": 5
}
