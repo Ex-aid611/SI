{
 "cells": [
  {
   "cell_type": "code",
   "execution_count": null,
   "id": "4379bbc3",
   "metadata": {},
   "outputs": [
    {
     "name": "stdout",
     "output_type": "stream",
     "text": [
      "123\n"
     ]
    }
   ],
   "source": [
    "import os\n",
    "import zipfile"
   ]
  },
  {
   "cell_type": "code",
   "execution_count": null,
   "id": "231b22ce",
   "metadata": {},
   "outputs": [],
   "source": [
    "def unzip_data(zip_path, target_path):\n",
    "    os.makedirs(target_path, exist_ok=True)\n",
    "    with zipfile.ZipFile(zip_path, 'r') as zip_ref:\n",
    "        zip_ref.extractall(target_path)\n",
    "\n",
    "# 替换为相应的路径\n",
    "train_gt_zip_path = \"data/data336725/ch8_training_word_gt_v2.zip\"\n",
    "train_images_zip_prefix = \"data/data336725/ch8_training_word_images_gt_part_\"\n",
    "eval_gt_zip_path = \"data/data336725/ch8_validation_word_gt_v2.zip\"\n",
    "eval_images_zip_path = \"data/data336725/ch8_validation_word_images_gt.zip\"\n",
    "\n",
    "train_target_path = \"data/train\"\n",
    "eval_target_path = \"data/eval\"\n",
    "\n",
    "# 解压训练集标注\n",
    "unzip_data(train_gt_zip_path, train_target_path)\n",
    "\n",
    "# 解压训练集图片（多个分包）\n",
    "for i in range(1, 3):\n",
    "    zip_path = f\"{train_images_zip_prefix}{i}.zip\"\n",
    "    unzip_data(zip_path, train_target_path)\n",
    "\n",
    "# 解压验证集标注和图片\n",
    "unzip_data(eval_gt_zip_path, eval_target_path)\n",
    "unzip_data(eval_images_zip_path, eval_target_path)"
   ]
  },
  {
   "cell_type": "code",
   "execution_count": null,
   "id": "39e04539",
   "metadata": {},
   "outputs": [],
   "source": [
    "train_parameters = {\n",
    "    \"batch_size\":16,\n",
    "    \"epochs\":100\n",
    "}"
   ]
  }
 ],
 "metadata": {
  "kernelspec": {
   "display_name": "base",
   "language": "python",
   "name": "python3"
  },
  "language_info": {
   "codemirror_mode": {
    "name": "ipython",
    "version": 3
   },
   "file_extension": ".py",
   "mimetype": "text/x-python",
   "name": "python",
   "nbconvert_exporter": "python",
   "pygments_lexer": "ipython3",
   "version": "3.12.7"
  }
 },
 "nbformat": 4,
 "nbformat_minor": 5
}
